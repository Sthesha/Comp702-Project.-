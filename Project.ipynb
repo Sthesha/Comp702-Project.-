{
  "cells": [
    {
      "cell_type": "markdown",
      "metadata": {
        "id": "view-in-github",
        "colab_type": "text"
      },
      "source": [
        "<a href=\"https://colab.research.google.com/github/Sthesha/Comp702-Project.-/blob/main/Project.ipynb\" target=\"_parent\"><img src=\"https://colab.research.google.com/assets/colab-badge.svg\" alt=\"Open In Colab\"/></a>"
      ]
    },
    {
      "cell_type": "code",
      "execution_count": 2,
      "metadata": {
        "colab": {
          "base_uri": "https://localhost:8080/"
        },
        "id": "DhuyNHg_208N",
        "outputId": "042b5fe9-555d-4dab-daf2-bf801281b02f"
      },
      "outputs": [
        {
          "output_type": "stream",
          "name": "stdout",
          "text": [
            "[nltk_data] Downloading package stopwords to /root/nltk_data...\n",
            "[nltk_data]   Package stopwords is already up-to-date!\n",
            "[nltk_data] Downloading package punkt to /root/nltk_data...\n",
            "[nltk_data]   Package punkt is already up-to-date!\n",
            "[nltk_data] Downloading package wordnet to /root/nltk_data...\n",
            "[nltk_data]   Package wordnet is already up-to-date!\n",
            "[nltk_data] Downloading package omw-1.4 to /root/nltk_data...\n",
            "[nltk_data]   Package omw-1.4 is already up-to-date!\n"
          ]
        }
      ],
      "source": [
        "import pandas as pd\n",
        "import numpy as np\n",
        "import gensim\n",
        "from gensim.models import Word2Vec\n",
        "from nltk.corpus import stopwords \n",
        "import nltk\n",
        "nltk.download('stopwords')\n",
        "nltk.download('punkt')\n",
        "nltk.download('wordnet')\n",
        "main_path = \"/root/nltk_data/corpora/wordnet.zip\" # Specify the path\n",
        "import os\n",
        "if os.path.exists(main_path)== False:\n",
        "  ! unzip /root/nltk_data/corpora/wordnet.zip -d /root/nltk_data/\n",
        "os.listdir('/root/nltk_data')\n",
        "from nltk.tokenize import word_tokenize \n",
        "from nltk.stem import WordNetLemmatizer \n",
        "from sklearn.feature_extraction.text import TfidfVectorizer\n",
        "from sklearn.svm import SVC\n",
        "from sklearn.decomposition import TruncatedSVD\n",
        "from sklearn.pipeline import Pipeline, make_pipeline\n",
        "# Below libraries are for feature representation using sklearn\n",
        "from sklearn.feature_extraction.text import CountVectorizer\n",
        "from sklearn.feature_extraction.text import TfidfVectorizer\n",
        "# Below libraries are for similarity matrices using sklearn\n",
        "from sklearn.metrics.pairwise import cosine_similarity  \n",
        "from sklearn.metrics import pairwise_distances\n",
        "import copy\n",
        "from IPython.display import clear_output\n",
        "import warnings\n",
        "from re import sub\n",
        "import seaborn as sns\n",
        "from wordcloud import WordCloud\n",
        "from sklearn import metrics\n",
        "from sklearn.model_selection import train_test_split\n",
        "from PIL import Image \n",
        "from sklearn.tree import DecisionTreeClassifier\n",
        "from sklearn import metrics\n",
        "from xgboost import XGBClassifier\n",
        "import random\n",
        "import nltk\n",
        "from gensim.models import KeyedVectors\n",
        "nltk.download('omw-1.4')\n",
        "warnings.filterwarnings(\"ignore\")\n",
        "\n",
        "import re\n",
        "from google.colab import auth\n",
        "import os\n"
      ]
    },
    {
      "cell_type": "code",
      "execution_count": 3,
      "metadata": {
        "colab": {
          "base_uri": "https://localhost:8080/"
        },
        "id": "p1Mkah_bOQyG",
        "outputId": "5ab2f4be-dd75-4d3e-eea3-9be4053cd1c5"
      },
      "outputs": [
        {
          "output_type": "execute_result",
          "data": {
            "text/plain": [
              "['tokenizers', 'corpora', 'wordnet']"
            ]
          },
          "metadata": {},
          "execution_count": 3
        }
      ],
      "source": [
        "os.listdir('/root/nltk_data')"
      ]
    },
    {
      "cell_type": "code",
      "execution_count": 4,
      "metadata": {
        "id": "COpt6rG261vc"
      },
      "outputs": [],
      "source": [
        "\n",
        "# !curl https://sdk.cloud.google.com | bash\n",
        "# !gcloud init"
      ]
    },
    {
      "cell_type": "code",
      "execution_count": 5,
      "metadata": {
        "colab": {
          "base_uri": "https://localhost:8080/"
        },
        "id": "O__gZzgJrjNe",
        "outputId": "021365e3-ce8f-4346-feed-6afb5197df32"
      },
      "outputs": [
        {
          "output_type": "stream",
          "name": "stdout",
          "text": [
            "Requirement already satisfied: kaggle in /usr/local/lib/python3.7/dist-packages (1.5.12)\n",
            "Requirement already satisfied: python-slugify in /usr/local/lib/python3.7/dist-packages (from kaggle) (6.1.0)\n",
            "Requirement already satisfied: requests in /usr/local/lib/python3.7/dist-packages (from kaggle) (2.23.0)\n",
            "Requirement already satisfied: tqdm in /usr/local/lib/python3.7/dist-packages (from kaggle) (4.62.3)\n",
            "Requirement already satisfied: urllib3 in /usr/local/lib/python3.7/dist-packages (from kaggle) (1.24.3)\n",
            "Requirement already satisfied: python-dateutil in /usr/local/lib/python3.7/dist-packages (from kaggle) (2.8.2)\n",
            "Requirement already satisfied: certifi in /usr/local/lib/python3.7/dist-packages (from kaggle) (2021.10.8)\n",
            "Requirement already satisfied: six>=1.10 in /usr/local/lib/python3.7/dist-packages (from kaggle) (1.15.0)\n",
            "Requirement already satisfied: text-unidecode>=1.3 in /usr/local/lib/python3.7/dist-packages (from python-slugify->kaggle) (1.3)\n",
            "Requirement already satisfied: idna<3,>=2.5 in /usr/local/lib/python3.7/dist-packages (from requests->kaggle) (2.10)\n",
            "Requirement already satisfied: chardet<4,>=3.0.2 in /usr/local/lib/python3.7/dist-packages (from requests->kaggle) (3.0.4)\n",
            "mkdir: cannot create directory ‘/root/.kaggle’: File exists\n"
          ]
        }
      ],
      "source": [
        "! pip install kaggle\n",
        "! mkdir ~/.kaggle\n",
        "! cp kaggle.json ~/.kaggle/\n",
        "! chmod 600 ~/.kaggle/kaggle.json"
      ]
    },
    {
      "cell_type": "code",
      "execution_count": 6,
      "metadata": {
        "id": "OmKcf4xnSlcC"
      },
      "outputs": [],
      "source": [
        "main_path = \"/content/mind-news-dataset.zip\" # Specify the path\n",
        "\n",
        "# Check whether the specified path exists or not\n",
        "if os.path.exists(main_path)== False:\n",
        "  ! kaggle datasets download arashnic/mind-news-dataset\n",
        "  ! unzip /content/mind-news-dataset.zip\n"
      ]
    },
    {
      "cell_type": "code",
      "execution_count": 7,
      "metadata": {
        "id": "NZnCU1C6PpMn"
      },
      "outputs": [],
      "source": [
        "dtypes = {\n",
        "    \"News ID\": \"category\",\n",
        "    \"Category\": \"category\",\n",
        "    \"SubCategory\": \"category\",\n",
        "    \"Title\": \"category\",\n",
        "    \"Abstract\": \"category\",\n",
        "    \"URL\": \"category\",\n",
        "    \"Title Entities\": \"category\",\n",
        "    \"Abstract Entities\": \"category\"\n",
        "}"
      ]
    },
    {
      "cell_type": "code",
      "execution_count": 8,
      "metadata": {
        "id": "KB4GEYIl208R"
      },
      "outputs": [],
      "source": [
        "news_data = pd.read_csv('/content/news.tsv/news.tsv', header=None, sep=\"\\t\")\n",
        "news_data.columns = ['News ID', \"Category\", \"SubCategory\", \"Title\", \"Abstract\", \"URL\", \"Title Entities\" , \"Abstract Entities\"]\n"
      ]
    },
    {
      "cell_type": "code",
      "execution_count": 9,
      "metadata": {
        "colab": {
          "base_uri": "https://localhost:8080/"
        },
        "id": "jd49XutKSobK",
        "outputId": "e4906455-a430-4bf6-dacf-dbb4fc43f529"
      },
      "outputs": [
        {
          "output_type": "stream",
          "name": "stdout",
          "text": [
            "<class 'pandas.core.frame.DataFrame'>\n",
            "RangeIndex: 51282 entries, 0 to 51281\n",
            "Data columns (total 8 columns):\n",
            " #   Column             Non-Null Count  Dtype \n",
            "---  ------             --------------  ----- \n",
            " 0   News ID            51282 non-null  object\n",
            " 1   Category           51282 non-null  object\n",
            " 2   SubCategory        51282 non-null  object\n",
            " 3   Title              51282 non-null  object\n",
            " 4   Abstract           48616 non-null  object\n",
            " 5   URL                51282 non-null  object\n",
            " 6   Title Entities     51279 non-null  object\n",
            " 7   Abstract Entities  51278 non-null  object\n",
            "dtypes: object(8)\n",
            "memory usage: 3.1+ MB\n"
          ]
        }
      ],
      "source": [
        "news_data.info()"
      ]
    },
    {
      "cell_type": "code",
      "execution_count": 10,
      "metadata": {
        "id": "ILGqMgz9208S"
      },
      "outputs": [],
      "source": [
        "news_data = news_data.astype(dtypes)"
      ]
    },
    {
      "cell_type": "code",
      "execution_count": 11,
      "metadata": {
        "colab": {
          "base_uri": "https://localhost:8080/"
        },
        "id": "UaGe1lNkSvvB",
        "outputId": "680fe8d4-5d22-4157-8498-eefdae425496"
      },
      "outputs": [
        {
          "output_type": "stream",
          "name": "stdout",
          "text": [
            "<class 'pandas.core.frame.DataFrame'>\n",
            "RangeIndex: 51282 entries, 0 to 51281\n",
            "Data columns (total 8 columns):\n",
            " #   Column             Non-Null Count  Dtype   \n",
            "---  ------             --------------  -----   \n",
            " 0   News ID            51282 non-null  category\n",
            " 1   Category           51282 non-null  category\n",
            " 2   SubCategory        51282 non-null  category\n",
            " 3   Title              51282 non-null  category\n",
            " 4   Abstract           48616 non-null  category\n",
            " 5   URL                51282 non-null  category\n",
            " 6   Title Entities     51279 non-null  category\n",
            " 7   Abstract Entities  51278 non-null  category\n",
            "dtypes: category(8)\n",
            "memory usage: 11.5 MB\n"
          ]
        }
      ],
      "source": [
        "news_data.info()"
      ]
    },
    {
      "cell_type": "code",
      "execution_count": 12,
      "metadata": {
        "id": "rWxCMQbh208T"
      },
      "outputs": [],
      "source": [
        "def reduce_mem_usage(news_data, verbose=True):\n",
        "    numerics = ['int16', 'int32', 'int64', 'float16', 'float32', 'float64']\n",
        "    start_mem = news_data.memory_usage().sum() / 1024**2\n",
        "    for col in news_data.columns:\n",
        "        col_type = news_data[col].dtypes\n",
        "        if col_type in numerics:\n",
        "            c_min = news_data[col].min()\n",
        "            c_max = news_data[col].max()\n",
        "            if str(col_type)[:3] == 'int':\n",
        "                if c_min > np.iinfo(np.int8).min and c_max < np.iinfo(np.int8).max:\n",
        "                    news_data[col] = news_data[col].astype(np.int8)\n",
        "                elif c_min > np.iinfo(np.int16).min and c_max < np.iinfo(np.int16).max:\n",
        "                    news_data[col] = news_data[col].astype(np.int16)\n",
        "                elif c_min > np.iinfo(np.int32).min and c_max < np.iinfo(np.int32).max:\n",
        "                    news_data[col] = news_data[col].astype(np.int32)\n",
        "                elif news_data > np.iinfo(np.int64).min and c_max < np.iinfo(np.int64).max:\n",
        "                    news_data[col] = df[col].astype(np.int64)\n",
        "            else:\n",
        "                if c_min > np.finfo(np.float16).min and c_max < np.finfo(np.float16).max:\n",
        "                    news_datanews_data[col] = df[col].astype(np.float16)\n",
        "                elif c_min > np.finfo(np.float32).min and c_max < np.finfo(np.float32).max:\n",
        "                    news_datanews_datanews_data[col] = news_data[col].astype(np.float32)\n",
        "                else:\n",
        "                    news_datanews_datanews_datanews_data[col] = df[col].astype(np.float64)\n",
        "\n",
        "    end_mem = news_data.memory_usage().sum() / 1024**2\n",
        "    print('Memory usage after optimization is: {:.2f} MB'.format(end_mem))\n",
        "    print('Decreased by {:.1f}%'.format(100 * (start_mem - end_mem) / start_mem))\n",
        "\n",
        "    return news_data"
      ]
    },
    {
      "cell_type": "code",
      "execution_count": 13,
      "metadata": {
        "colab": {
          "base_uri": "https://localhost:8080/"
        },
        "id": "gB5dAcB7208T",
        "outputId": "75db6f04-0808-41ec-e803-d7a460e0e4bb"
      },
      "outputs": [
        {
          "output_type": "stream",
          "name": "stdout",
          "text": [
            "Memory usage after optimization is: 11.46 MB\n",
            "Decreased by 0.0%\n"
          ]
        }
      ],
      "source": [
        "news_data = reduce_mem_usage(news_data)"
      ]
    },
    {
      "cell_type": "code",
      "execution_count": 14,
      "metadata": {
        "colab": {
          "base_uri": "https://localhost:8080/",
          "height": 722
        },
        "id": "ztV7FFvZ208U",
        "outputId": "94552a1f-4455-41a2-e1bc-a1a1a9d11d0a"
      },
      "outputs": [
        {
          "output_type": "execute_result",
          "data": {
            "text/html": [
              "\n",
              "  <div id=\"df-3c5bbdd7-6c59-4e93-9822-a0e1a8e8586c\">\n",
              "    <div class=\"colab-df-container\">\n",
              "      <div>\n",
              "<style scoped>\n",
              "    .dataframe tbody tr th:only-of-type {\n",
              "        vertical-align: middle;\n",
              "    }\n",
              "\n",
              "    .dataframe tbody tr th {\n",
              "        vertical-align: top;\n",
              "    }\n",
              "\n",
              "    .dataframe thead th {\n",
              "        text-align: right;\n",
              "    }\n",
              "</style>\n",
              "<table border=\"1\" class=\"dataframe\">\n",
              "  <thead>\n",
              "    <tr style=\"text-align: right;\">\n",
              "      <th></th>\n",
              "      <th>News ID</th>\n",
              "      <th>Category</th>\n",
              "      <th>SubCategory</th>\n",
              "      <th>Title</th>\n",
              "      <th>Abstract</th>\n",
              "      <th>URL</th>\n",
              "      <th>Title Entities</th>\n",
              "      <th>Abstract Entities</th>\n",
              "    </tr>\n",
              "  </thead>\n",
              "  <tbody>\n",
              "    <tr>\n",
              "      <th>0</th>\n",
              "      <td>N55528</td>\n",
              "      <td>lifestyle</td>\n",
              "      <td>lifestyleroyals</td>\n",
              "      <td>The Brands Queen Elizabeth, Prince Charles, an...</td>\n",
              "      <td>Shop the notebooks, jackets, and more that the...</td>\n",
              "      <td>https://assets.msn.com/labs/mind/AAGH0ET.html</td>\n",
              "      <td>[{\"Label\": \"Prince Philip, Duke of Edinburgh\",...</td>\n",
              "      <td>[]</td>\n",
              "    </tr>\n",
              "    <tr>\n",
              "      <th>1</th>\n",
              "      <td>N19639</td>\n",
              "      <td>health</td>\n",
              "      <td>weightloss</td>\n",
              "      <td>50 Worst Habits For Belly Fat</td>\n",
              "      <td>These seemingly harmless habits are holding yo...</td>\n",
              "      <td>https://assets.msn.com/labs/mind/AAB19MK.html</td>\n",
              "      <td>[{\"Label\": \"Adipose tissue\", \"Type\": \"C\", \"Wik...</td>\n",
              "      <td>[{\"Label\": \"Adipose tissue\", \"Type\": \"C\", \"Wik...</td>\n",
              "    </tr>\n",
              "    <tr>\n",
              "      <th>2</th>\n",
              "      <td>N61837</td>\n",
              "      <td>news</td>\n",
              "      <td>newsworld</td>\n",
              "      <td>The Cost of Trump's Aid Freeze in the Trenches...</td>\n",
              "      <td>Lt. Ivan Molchanets peeked over a parapet of s...</td>\n",
              "      <td>https://assets.msn.com/labs/mind/AAJgNsz.html</td>\n",
              "      <td>[]</td>\n",
              "      <td>[{\"Label\": \"Ukraine\", \"Type\": \"G\", \"WikidataId...</td>\n",
              "    </tr>\n",
              "    <tr>\n",
              "      <th>3</th>\n",
              "      <td>N53526</td>\n",
              "      <td>health</td>\n",
              "      <td>voices</td>\n",
              "      <td>I Was An NBA Wife. Here's How It Affected My M...</td>\n",
              "      <td>I felt like I was a fraud, and being an NBA wi...</td>\n",
              "      <td>https://assets.msn.com/labs/mind/AACk2N6.html</td>\n",
              "      <td>[]</td>\n",
              "      <td>[{\"Label\": \"National Basketball Association\", ...</td>\n",
              "    </tr>\n",
              "    <tr>\n",
              "      <th>4</th>\n",
              "      <td>N38324</td>\n",
              "      <td>health</td>\n",
              "      <td>medical</td>\n",
              "      <td>How to Get Rid of Skin Tags, According to a De...</td>\n",
              "      <td>They seem harmless, but there's a very good re...</td>\n",
              "      <td>https://assets.msn.com/labs/mind/AAAKEkt.html</td>\n",
              "      <td>[{\"Label\": \"Skin tag\", \"Type\": \"C\", \"WikidataI...</td>\n",
              "      <td>[{\"Label\": \"Skin tag\", \"Type\": \"C\", \"WikidataI...</td>\n",
              "    </tr>\n",
              "  </tbody>\n",
              "</table>\n",
              "</div>\n",
              "      <button class=\"colab-df-convert\" onclick=\"convertToInteractive('df-3c5bbdd7-6c59-4e93-9822-a0e1a8e8586c')\"\n",
              "              title=\"Convert this dataframe to an interactive table.\"\n",
              "              style=\"display:none;\">\n",
              "        \n",
              "  <svg xmlns=\"http://www.w3.org/2000/svg\" height=\"24px\"viewBox=\"0 0 24 24\"\n",
              "       width=\"24px\">\n",
              "    <path d=\"M0 0h24v24H0V0z\" fill=\"none\"/>\n",
              "    <path d=\"M18.56 5.44l.94 2.06.94-2.06 2.06-.94-2.06-.94-.94-2.06-.94 2.06-2.06.94zm-11 1L8.5 8.5l.94-2.06 2.06-.94-2.06-.94L8.5 2.5l-.94 2.06-2.06.94zm10 10l.94 2.06.94-2.06 2.06-.94-2.06-.94-.94-2.06-.94 2.06-2.06.94z\"/><path d=\"M17.41 7.96l-1.37-1.37c-.4-.4-.92-.59-1.43-.59-.52 0-1.04.2-1.43.59L10.3 9.45l-7.72 7.72c-.78.78-.78 2.05 0 2.83L4 21.41c.39.39.9.59 1.41.59.51 0 1.02-.2 1.41-.59l7.78-7.78 2.81-2.81c.8-.78.8-2.07 0-2.86zM5.41 20L4 18.59l7.72-7.72 1.47 1.35L5.41 20z\"/>\n",
              "  </svg>\n",
              "      </button>\n",
              "      \n",
              "  <style>\n",
              "    .colab-df-container {\n",
              "      display:flex;\n",
              "      flex-wrap:wrap;\n",
              "      gap: 12px;\n",
              "    }\n",
              "\n",
              "    .colab-df-convert {\n",
              "      background-color: #E8F0FE;\n",
              "      border: none;\n",
              "      border-radius: 50%;\n",
              "      cursor: pointer;\n",
              "      display: none;\n",
              "      fill: #1967D2;\n",
              "      height: 32px;\n",
              "      padding: 0 0 0 0;\n",
              "      width: 32px;\n",
              "    }\n",
              "\n",
              "    .colab-df-convert:hover {\n",
              "      background-color: #E2EBFA;\n",
              "      box-shadow: 0px 1px 2px rgba(60, 64, 67, 0.3), 0px 1px 3px 1px rgba(60, 64, 67, 0.15);\n",
              "      fill: #174EA6;\n",
              "    }\n",
              "\n",
              "    [theme=dark] .colab-df-convert {\n",
              "      background-color: #3B4455;\n",
              "      fill: #D2E3FC;\n",
              "    }\n",
              "\n",
              "    [theme=dark] .colab-df-convert:hover {\n",
              "      background-color: #434B5C;\n",
              "      box-shadow: 0px 1px 3px 1px rgba(0, 0, 0, 0.15);\n",
              "      filter: drop-shadow(0px 1px 2px rgba(0, 0, 0, 0.3));\n",
              "      fill: #FFFFFF;\n",
              "    }\n",
              "  </style>\n",
              "\n",
              "      <script>\n",
              "        const buttonEl =\n",
              "          document.querySelector('#df-3c5bbdd7-6c59-4e93-9822-a0e1a8e8586c button.colab-df-convert');\n",
              "        buttonEl.style.display =\n",
              "          google.colab.kernel.accessAllowed ? 'block' : 'none';\n",
              "\n",
              "        async function convertToInteractive(key) {\n",
              "          const element = document.querySelector('#df-3c5bbdd7-6c59-4e93-9822-a0e1a8e8586c');\n",
              "          const dataTable =\n",
              "            await google.colab.kernel.invokeFunction('convertToInteractive',\n",
              "                                                     [key], {});\n",
              "          if (!dataTable) return;\n",
              "\n",
              "          const docLinkHtml = 'Like what you see? Visit the ' +\n",
              "            '<a target=\"_blank\" href=https://colab.research.google.com/notebooks/data_table.ipynb>data table notebook</a>'\n",
              "            + ' to learn more about interactive tables.';\n",
              "          element.innerHTML = '';\n",
              "          dataTable['output_type'] = 'display_data';\n",
              "          await google.colab.output.renderOutput(dataTable, element);\n",
              "          const docLink = document.createElement('div');\n",
              "          docLink.innerHTML = docLinkHtml;\n",
              "          element.appendChild(docLink);\n",
              "        }\n",
              "      </script>\n",
              "    </div>\n",
              "  </div>\n",
              "  "
            ],
            "text/plain": [
              "  News ID  ...                                  Abstract Entities\n",
              "0  N55528  ...                                                 []\n",
              "1  N19639  ...  [{\"Label\": \"Adipose tissue\", \"Type\": \"C\", \"Wik...\n",
              "2  N61837  ...  [{\"Label\": \"Ukraine\", \"Type\": \"G\", \"WikidataId...\n",
              "3  N53526  ...  [{\"Label\": \"National Basketball Association\", ...\n",
              "4  N38324  ...  [{\"Label\": \"Skin tag\", \"Type\": \"C\", \"WikidataI...\n",
              "\n",
              "[5 rows x 8 columns]"
            ]
          },
          "metadata": {},
          "execution_count": 14
        }
      ],
      "source": [
        "news_data.head()"
      ]
    },
    {
      "cell_type": "code",
      "execution_count": 15,
      "metadata": {
        "colab": {
          "base_uri": "https://localhost:8080/",
          "height": 641
        },
        "id": "Blfun99K208U",
        "outputId": "e6a269e6-1613-4d85-8068-3f2cb8b0fcdd"
      },
      "outputs": [
        {
          "output_type": "execute_result",
          "data": {
            "text/html": [
              "\n",
              "  <div id=\"df-cb97999e-aa92-435f-b0d5-063bd0c6e78d\">\n",
              "    <div class=\"colab-df-container\">\n",
              "      <div>\n",
              "<style scoped>\n",
              "    .dataframe tbody tr th:only-of-type {\n",
              "        vertical-align: middle;\n",
              "    }\n",
              "\n",
              "    .dataframe tbody tr th {\n",
              "        vertical-align: top;\n",
              "    }\n",
              "\n",
              "    .dataframe thead th {\n",
              "        text-align: right;\n",
              "    }\n",
              "</style>\n",
              "<table border=\"1\" class=\"dataframe\">\n",
              "  <thead>\n",
              "    <tr style=\"text-align: right;\">\n",
              "      <th></th>\n",
              "      <th>News ID</th>\n",
              "      <th>Category</th>\n",
              "      <th>SubCategory</th>\n",
              "      <th>Title</th>\n",
              "      <th>Abstract</th>\n",
              "    </tr>\n",
              "  </thead>\n",
              "  <tbody>\n",
              "    <tr>\n",
              "      <th>0</th>\n",
              "      <td>N55528</td>\n",
              "      <td>lifestyle</td>\n",
              "      <td>lifestyleroyals</td>\n",
              "      <td>The Brands Queen Elizabeth, Prince Charles, an...</td>\n",
              "      <td>Shop the notebooks, jackets, and more that the...</td>\n",
              "    </tr>\n",
              "    <tr>\n",
              "      <th>1</th>\n",
              "      <td>N19639</td>\n",
              "      <td>health</td>\n",
              "      <td>weightloss</td>\n",
              "      <td>50 Worst Habits For Belly Fat</td>\n",
              "      <td>These seemingly harmless habits are holding yo...</td>\n",
              "    </tr>\n",
              "    <tr>\n",
              "      <th>2</th>\n",
              "      <td>N61837</td>\n",
              "      <td>news</td>\n",
              "      <td>newsworld</td>\n",
              "      <td>The Cost of Trump's Aid Freeze in the Trenches...</td>\n",
              "      <td>Lt. Ivan Molchanets peeked over a parapet of s...</td>\n",
              "    </tr>\n",
              "    <tr>\n",
              "      <th>3</th>\n",
              "      <td>N53526</td>\n",
              "      <td>health</td>\n",
              "      <td>voices</td>\n",
              "      <td>I Was An NBA Wife. Here's How It Affected My M...</td>\n",
              "      <td>I felt like I was a fraud, and being an NBA wi...</td>\n",
              "    </tr>\n",
              "    <tr>\n",
              "      <th>4</th>\n",
              "      <td>N38324</td>\n",
              "      <td>health</td>\n",
              "      <td>medical</td>\n",
              "      <td>How to Get Rid of Skin Tags, According to a De...</td>\n",
              "      <td>They seem harmless, but there's a very good re...</td>\n",
              "    </tr>\n",
              "    <tr>\n",
              "      <th>...</th>\n",
              "      <td>...</td>\n",
              "      <td>...</td>\n",
              "      <td>...</td>\n",
              "      <td>...</td>\n",
              "      <td>...</td>\n",
              "    </tr>\n",
              "    <tr>\n",
              "      <th>51277</th>\n",
              "      <td>N16909</td>\n",
              "      <td>weather</td>\n",
              "      <td>weathertopstories</td>\n",
              "      <td>Adapting, Learning And Soul Searching: Reflect...</td>\n",
              "      <td>Woolsey Fire Anniversary: A community is forev...</td>\n",
              "    </tr>\n",
              "    <tr>\n",
              "      <th>51278</th>\n",
              "      <td>N47585</td>\n",
              "      <td>lifestyle</td>\n",
              "      <td>lifestylefamily</td>\n",
              "      <td>Family says 13-year-old Broadway star died fro...</td>\n",
              "      <td>NaN</td>\n",
              "    </tr>\n",
              "    <tr>\n",
              "      <th>51279</th>\n",
              "      <td>N7482</td>\n",
              "      <td>sports</td>\n",
              "      <td>more_sports</td>\n",
              "      <td>St. Dominic soccer player tries to kick cancer...</td>\n",
              "      <td>Sometimes, what happens on the sidelines can b...</td>\n",
              "    </tr>\n",
              "    <tr>\n",
              "      <th>51280</th>\n",
              "      <td>N34418</td>\n",
              "      <td>sports</td>\n",
              "      <td>soccer_epl</td>\n",
              "      <td>How the Sounders won MLS Cup</td>\n",
              "      <td>Mark, Jeremiah and Casey were so excited they ...</td>\n",
              "    </tr>\n",
              "    <tr>\n",
              "      <th>51281</th>\n",
              "      <td>N44276</td>\n",
              "      <td>autos</td>\n",
              "      <td>autossports</td>\n",
              "      <td>Best Sports Car Deals for October</td>\n",
              "      <td>NaN</td>\n",
              "    </tr>\n",
              "  </tbody>\n",
              "</table>\n",
              "<p>51282 rows × 5 columns</p>\n",
              "</div>\n",
              "      <button class=\"colab-df-convert\" onclick=\"convertToInteractive('df-cb97999e-aa92-435f-b0d5-063bd0c6e78d')\"\n",
              "              title=\"Convert this dataframe to an interactive table.\"\n",
              "              style=\"display:none;\">\n",
              "        \n",
              "  <svg xmlns=\"http://www.w3.org/2000/svg\" height=\"24px\"viewBox=\"0 0 24 24\"\n",
              "       width=\"24px\">\n",
              "    <path d=\"M0 0h24v24H0V0z\" fill=\"none\"/>\n",
              "    <path d=\"M18.56 5.44l.94 2.06.94-2.06 2.06-.94-2.06-.94-.94-2.06-.94 2.06-2.06.94zm-11 1L8.5 8.5l.94-2.06 2.06-.94-2.06-.94L8.5 2.5l-.94 2.06-2.06.94zm10 10l.94 2.06.94-2.06 2.06-.94-2.06-.94-.94-2.06-.94 2.06-2.06.94z\"/><path d=\"M17.41 7.96l-1.37-1.37c-.4-.4-.92-.59-1.43-.59-.52 0-1.04.2-1.43.59L10.3 9.45l-7.72 7.72c-.78.78-.78 2.05 0 2.83L4 21.41c.39.39.9.59 1.41.59.51 0 1.02-.2 1.41-.59l7.78-7.78 2.81-2.81c.8-.78.8-2.07 0-2.86zM5.41 20L4 18.59l7.72-7.72 1.47 1.35L5.41 20z\"/>\n",
              "  </svg>\n",
              "      </button>\n",
              "      \n",
              "  <style>\n",
              "    .colab-df-container {\n",
              "      display:flex;\n",
              "      flex-wrap:wrap;\n",
              "      gap: 12px;\n",
              "    }\n",
              "\n",
              "    .colab-df-convert {\n",
              "      background-color: #E8F0FE;\n",
              "      border: none;\n",
              "      border-radius: 50%;\n",
              "      cursor: pointer;\n",
              "      display: none;\n",
              "      fill: #1967D2;\n",
              "      height: 32px;\n",
              "      padding: 0 0 0 0;\n",
              "      width: 32px;\n",
              "    }\n",
              "\n",
              "    .colab-df-convert:hover {\n",
              "      background-color: #E2EBFA;\n",
              "      box-shadow: 0px 1px 2px rgba(60, 64, 67, 0.3), 0px 1px 3px 1px rgba(60, 64, 67, 0.15);\n",
              "      fill: #174EA6;\n",
              "    }\n",
              "\n",
              "    [theme=dark] .colab-df-convert {\n",
              "      background-color: #3B4455;\n",
              "      fill: #D2E3FC;\n",
              "    }\n",
              "\n",
              "    [theme=dark] .colab-df-convert:hover {\n",
              "      background-color: #434B5C;\n",
              "      box-shadow: 0px 1px 3px 1px rgba(0, 0, 0, 0.15);\n",
              "      filter: drop-shadow(0px 1px 2px rgba(0, 0, 0, 0.3));\n",
              "      fill: #FFFFFF;\n",
              "    }\n",
              "  </style>\n",
              "\n",
              "      <script>\n",
              "        const buttonEl =\n",
              "          document.querySelector('#df-cb97999e-aa92-435f-b0d5-063bd0c6e78d button.colab-df-convert');\n",
              "        buttonEl.style.display =\n",
              "          google.colab.kernel.accessAllowed ? 'block' : 'none';\n",
              "\n",
              "        async function convertToInteractive(key) {\n",
              "          const element = document.querySelector('#df-cb97999e-aa92-435f-b0d5-063bd0c6e78d');\n",
              "          const dataTable =\n",
              "            await google.colab.kernel.invokeFunction('convertToInteractive',\n",
              "                                                     [key], {});\n",
              "          if (!dataTable) return;\n",
              "\n",
              "          const docLinkHtml = 'Like what you see? Visit the ' +\n",
              "            '<a target=\"_blank\" href=https://colab.research.google.com/notebooks/data_table.ipynb>data table notebook</a>'\n",
              "            + ' to learn more about interactive tables.';\n",
              "          element.innerHTML = '';\n",
              "          dataTable['output_type'] = 'display_data';\n",
              "          await google.colab.output.renderOutput(dataTable, element);\n",
              "          const docLink = document.createElement('div');\n",
              "          docLink.innerHTML = docLinkHtml;\n",
              "          element.appendChild(docLink);\n",
              "        }\n",
              "      </script>\n",
              "    </div>\n",
              "  </div>\n",
              "  "
            ],
            "text/plain": [
              "      News ID  ...                                           Abstract\n",
              "0      N55528  ...  Shop the notebooks, jackets, and more that the...\n",
              "1      N19639  ...  These seemingly harmless habits are holding yo...\n",
              "2      N61837  ...  Lt. Ivan Molchanets peeked over a parapet of s...\n",
              "3      N53526  ...  I felt like I was a fraud, and being an NBA wi...\n",
              "4      N38324  ...  They seem harmless, but there's a very good re...\n",
              "...       ...  ...                                                ...\n",
              "51277  N16909  ...  Woolsey Fire Anniversary: A community is forev...\n",
              "51278  N47585  ...                                                NaN\n",
              "51279   N7482  ...  Sometimes, what happens on the sidelines can b...\n",
              "51280  N34418  ...  Mark, Jeremiah and Casey were so excited they ...\n",
              "51281  N44276  ...                                                NaN\n",
              "\n",
              "[51282 rows x 5 columns]"
            ]
          },
          "metadata": {},
          "execution_count": 15
        }
      ],
      "source": [
        "news_data.drop(['URL', 'Title Entities', 'Abstract Entities'], axis=1)"
      ]
    },
    {
      "cell_type": "code",
      "execution_count": 16,
      "metadata": {
        "colab": {
          "base_uri": "https://localhost:8080/",
          "height": 633
        },
        "id": "zk8L6Gxy208V",
        "outputId": "8669a6c6-725c-4151-c104-48837500395b"
      },
      "outputs": [
        {
          "output_type": "stream",
          "name": "stdout",
          "text": [
            "the number of articles before processing : 156965\n",
            "The number of articles after processing : 153727\n"
          ]
        },
        {
          "output_type": "execute_result",
          "data": {
            "text/html": [
              "\n",
              "  <div id=\"df-34b8b044-d8e4-41ca-9a62-dcacb9a7834f\">\n",
              "    <div class=\"colab-df-container\">\n",
              "      <div>\n",
              "<style scoped>\n",
              "    .dataframe tbody tr th:only-of-type {\n",
              "        vertical-align: middle;\n",
              "    }\n",
              "\n",
              "    .dataframe tbody tr th {\n",
              "        vertical-align: top;\n",
              "    }\n",
              "\n",
              "    .dataframe thead th {\n",
              "        text-align: right;\n",
              "    }\n",
              "</style>\n",
              "<table border=\"1\" class=\"dataframe\">\n",
              "  <thead>\n",
              "    <tr style=\"text-align: right;\">\n",
              "      <th></th>\n",
              "      <th>Impression</th>\n",
              "      <th>User ID</th>\n",
              "      <th>Time</th>\n",
              "      <th>History</th>\n",
              "      <th>Impressions</th>\n",
              "    </tr>\n",
              "  </thead>\n",
              "  <tbody>\n",
              "    <tr>\n",
              "      <th>0</th>\n",
              "      <td>1</td>\n",
              "      <td>U13740</td>\n",
              "      <td>11/11/2019 9:05:58 AM</td>\n",
              "      <td>N55189 N42782 N34694 N45794 N18445 N63302 N104...</td>\n",
              "      <td>N55689-1 N35729-0</td>\n",
              "    </tr>\n",
              "    <tr>\n",
              "      <th>1</th>\n",
              "      <td>2</td>\n",
              "      <td>U91836</td>\n",
              "      <td>11/12/2019 6:11:30 PM</td>\n",
              "      <td>N31739 N6072 N63045 N23979 N35656 N43353 N8129...</td>\n",
              "      <td>N20678-0 N39317-0 N58114-0 N20495-0 N42977-0 N...</td>\n",
              "    </tr>\n",
              "    <tr>\n",
              "      <th>2</th>\n",
              "      <td>3</td>\n",
              "      <td>U73700</td>\n",
              "      <td>11/14/2019 7:01:48 AM</td>\n",
              "      <td>N10732 N25792 N7563 N21087 N41087 N5445 N60384...</td>\n",
              "      <td>N50014-0 N23877-0 N35389-0 N49712-0 N16844-0 N...</td>\n",
              "    </tr>\n",
              "    <tr>\n",
              "      <th>3</th>\n",
              "      <td>4</td>\n",
              "      <td>U34670</td>\n",
              "      <td>11/11/2019 5:28:05 AM</td>\n",
              "      <td>N45729 N2203 N871 N53880 N41375 N43142 N33013 ...</td>\n",
              "      <td>N35729-0 N33632-0 N49685-1 N27581-0</td>\n",
              "    </tr>\n",
              "    <tr>\n",
              "      <th>4</th>\n",
              "      <td>5</td>\n",
              "      <td>U8125</td>\n",
              "      <td>11/12/2019 4:11:21 PM</td>\n",
              "      <td>N10078 N56514 N14904 N33740</td>\n",
              "      <td>N39985-0 N36050-0 N16096-0 N8400-1 N22407-0 N6...</td>\n",
              "    </tr>\n",
              "    <tr>\n",
              "      <th>5</th>\n",
              "      <td>6</td>\n",
              "      <td>U19739</td>\n",
              "      <td>11/11/2019 6:52:13 PM</td>\n",
              "      <td>N39074 N14343 N32607 N32320 N22007 N442 N19001...</td>\n",
              "      <td>N21119-1 N53696-0 N33619-1 N25722-0 N2869-0</td>\n",
              "    </tr>\n",
              "    <tr>\n",
              "      <th>6</th>\n",
              "      <td>7</td>\n",
              "      <td>U8355</td>\n",
              "      <td>11/11/2019 12:22:09 PM</td>\n",
              "      <td>N8419 N15771 N1431 N5888 N18663 N24123 N22130 ...</td>\n",
              "      <td>N51346-0 N33848-0 N15132-0 N10688-0 N6342-0 N6...</td>\n",
              "    </tr>\n",
              "    <tr>\n",
              "      <th>7</th>\n",
              "      <td>8</td>\n",
              "      <td>U46596</td>\n",
              "      <td>11/12/2019 10:29:36 PM</td>\n",
              "      <td>N47438 N20950 N21317 N5469</td>\n",
              "      <td>N7821-0 N24898-0 N12029-0 N13579-0 N42977-0 N3...</td>\n",
              "    </tr>\n",
              "    <tr>\n",
              "      <th>8</th>\n",
              "      <td>9</td>\n",
              "      <td>U79199</td>\n",
              "      <td>11/13/2019 10:13:02 AM</td>\n",
              "      <td>N37083 N459 N29499 N38118 N37378 N24691 N27235...</td>\n",
              "      <td>N51048-1 N64094-0 N13907-0 N39010-0</td>\n",
              "    </tr>\n",
              "    <tr>\n",
              "      <th>9</th>\n",
              "      <td>10</td>\n",
              "      <td>U53231</td>\n",
              "      <td>11/11/2019 11:28:11 AM</td>\n",
              "      <td>N58936 N15919 N11917 N2153 N55312 N13008 N4142...</td>\n",
              "      <td>N53585-1 N55689-0</td>\n",
              "    </tr>\n",
              "  </tbody>\n",
              "</table>\n",
              "</div>\n",
              "      <button class=\"colab-df-convert\" onclick=\"convertToInteractive('df-34b8b044-d8e4-41ca-9a62-dcacb9a7834f')\"\n",
              "              title=\"Convert this dataframe to an interactive table.\"\n",
              "              style=\"display:none;\">\n",
              "        \n",
              "  <svg xmlns=\"http://www.w3.org/2000/svg\" height=\"24px\"viewBox=\"0 0 24 24\"\n",
              "       width=\"24px\">\n",
              "    <path d=\"M0 0h24v24H0V0z\" fill=\"none\"/>\n",
              "    <path d=\"M18.56 5.44l.94 2.06.94-2.06 2.06-.94-2.06-.94-.94-2.06-.94 2.06-2.06.94zm-11 1L8.5 8.5l.94-2.06 2.06-.94-2.06-.94L8.5 2.5l-.94 2.06-2.06.94zm10 10l.94 2.06.94-2.06 2.06-.94-2.06-.94-.94-2.06-.94 2.06-2.06.94z\"/><path d=\"M17.41 7.96l-1.37-1.37c-.4-.4-.92-.59-1.43-.59-.52 0-1.04.2-1.43.59L10.3 9.45l-7.72 7.72c-.78.78-.78 2.05 0 2.83L4 21.41c.39.39.9.59 1.41.59.51 0 1.02-.2 1.41-.59l7.78-7.78 2.81-2.81c.8-.78.8-2.07 0-2.86zM5.41 20L4 18.59l7.72-7.72 1.47 1.35L5.41 20z\"/>\n",
              "  </svg>\n",
              "      </button>\n",
              "      \n",
              "  <style>\n",
              "    .colab-df-container {\n",
              "      display:flex;\n",
              "      flex-wrap:wrap;\n",
              "      gap: 12px;\n",
              "    }\n",
              "\n",
              "    .colab-df-convert {\n",
              "      background-color: #E8F0FE;\n",
              "      border: none;\n",
              "      border-radius: 50%;\n",
              "      cursor: pointer;\n",
              "      display: none;\n",
              "      fill: #1967D2;\n",
              "      height: 32px;\n",
              "      padding: 0 0 0 0;\n",
              "      width: 32px;\n",
              "    }\n",
              "\n",
              "    .colab-df-convert:hover {\n",
              "      background-color: #E2EBFA;\n",
              "      box-shadow: 0px 1px 2px rgba(60, 64, 67, 0.3), 0px 1px 3px 1px rgba(60, 64, 67, 0.15);\n",
              "      fill: #174EA6;\n",
              "    }\n",
              "\n",
              "    [theme=dark] .colab-df-convert {\n",
              "      background-color: #3B4455;\n",
              "      fill: #D2E3FC;\n",
              "    }\n",
              "\n",
              "    [theme=dark] .colab-df-convert:hover {\n",
              "      background-color: #434B5C;\n",
              "      box-shadow: 0px 1px 3px 1px rgba(0, 0, 0, 0.15);\n",
              "      filter: drop-shadow(0px 1px 2px rgba(0, 0, 0, 0.3));\n",
              "      fill: #FFFFFF;\n",
              "    }\n",
              "  </style>\n",
              "\n",
              "      <script>\n",
              "        const buttonEl =\n",
              "          document.querySelector('#df-34b8b044-d8e4-41ca-9a62-dcacb9a7834f button.colab-df-convert');\n",
              "        buttonEl.style.display =\n",
              "          google.colab.kernel.accessAllowed ? 'block' : 'none';\n",
              "\n",
              "        async function convertToInteractive(key) {\n",
              "          const element = document.querySelector('#df-34b8b044-d8e4-41ca-9a62-dcacb9a7834f');\n",
              "          const dataTable =\n",
              "            await google.colab.kernel.invokeFunction('convertToInteractive',\n",
              "                                                     [key], {});\n",
              "          if (!dataTable) return;\n",
              "\n",
              "          const docLinkHtml = 'Like what you see? Visit the ' +\n",
              "            '<a target=\"_blank\" href=https://colab.research.google.com/notebooks/data_table.ipynb>data table notebook</a>'\n",
              "            + ' to learn more about interactive tables.';\n",
              "          element.innerHTML = '';\n",
              "          dataTable['output_type'] = 'display_data';\n",
              "          await google.colab.output.renderOutput(dataTable, element);\n",
              "          const docLink = document.createElement('div');\n",
              "          docLink.innerHTML = docLinkHtml;\n",
              "          element.appendChild(docLink);\n",
              "        }\n",
              "      </script>\n",
              "    </div>\n",
              "  </div>\n",
              "  "
            ],
            "text/plain": [
              "   Impression  ...                                        Impressions\n",
              "0           1  ...                                  N55689-1 N35729-0\n",
              "1           2  ...  N20678-0 N39317-0 N58114-0 N20495-0 N42977-0 N...\n",
              "2           3  ...  N50014-0 N23877-0 N35389-0 N49712-0 N16844-0 N...\n",
              "3           4  ...                N35729-0 N33632-0 N49685-1 N27581-0\n",
              "4           5  ...  N39985-0 N36050-0 N16096-0 N8400-1 N22407-0 N6...\n",
              "5           6  ...        N21119-1 N53696-0 N33619-1 N25722-0 N2869-0\n",
              "6           7  ...  N51346-0 N33848-0 N15132-0 N10688-0 N6342-0 N6...\n",
              "7           8  ...  N7821-0 N24898-0 N12029-0 N13579-0 N42977-0 N3...\n",
              "8           9  ...                N51048-1 N64094-0 N13907-0 N39010-0\n",
              "9          10  ...                                  N53585-1 N55689-0\n",
              "\n",
              "[10 rows x 5 columns]"
            ]
          },
          "metadata": {},
          "execution_count": 16
        }
      ],
      "source": [
        "users_behavior = pd.read_csv('/content/MINDsmall_train/behaviors.tsv', header=None, sep=\"\\t\")\n",
        "users_behavior.columns = [\"Impression\", \"User ID\", \"Time\", \"History\", \"Impressions\"]\n",
        "\n",
        "print('the number of articles before processing :',len(users_behavior))\n",
        "users_behavior=users_behavior.dropna().reset_index(drop=True)\n",
        "print('The number of articles after processing :',len(users_behavior))\n",
        "users_behavior.head(10)\n"
      ]
    },
    {
      "cell_type": "code",
      "execution_count": 17,
      "metadata": {
        "colab": {
          "base_uri": "https://localhost:8080/"
        },
        "id": "JP4s4yVw208W",
        "outputId": "b8911220-030d-48b2-e9c4-a97936505d7f"
      },
      "outputs": [
        {
          "output_type": "stream",
          "name": "stdout",
          "text": [
            "the number of articles before processing : 51282\n",
            "The number of articles after processing : 47310\n"
          ]
        }
      ],
      "source": [
        "\n",
        "print('the number of articles before processing :',len(news_data))\n",
        "news_data.drop_duplicates(subset=[\"Abstract\"],inplace=True)\n",
        "print('The number of articles after processing :',len(news_data))"
      ]
    },
    {
      "cell_type": "code",
      "source": [
        "# #New dataframe\n",
        "# #having the user and the news read and those which were not either one or zero\n",
        "# user_history = pd.DataFrame(columns = [\"user_id\", \"history\", \"verdict\"])\n",
        "# for index, row in users_behavior.iterrows():\n",
        "#   hist = row[\"History\"]\n",
        "#   user_id = row[\"User ID\"]\n",
        "#   impressions = row[\"Impressions\"]\n",
        "#   impressions = list(impressions.split(\" \"))\n",
        "#   hist = list(hist.split(\" \"))\n",
        "#   for imp in impressions:\n",
        "#     user_history.loc[len(user_history.index)] = [user_id, imp, \"1\"]\n",
        "# user_history.head()\n"
      ],
      "metadata": {
        "id": "ogT4Bsst9qbP"
      },
      "execution_count": 18,
      "outputs": []
    },
    {
      "cell_type": "code",
      "execution_count": 19,
      "metadata": {
        "id": "I5GqcXAFwgFm"
      },
      "outputs": [],
      "source": [
        "# #create new user ID \n",
        "# user_history = pd.DataFrame(columns = [\"user_id\", \"history\"])\n",
        "# for index, row in users_behavior.iterrows():\n",
        "#   hist = row[\"History\"]\n",
        "#   user_id = row[\"User ID\"]\n",
        "#   impressions = row[\"Impressions\"]\n",
        "#   impressions = list(impressions.split(\" \"))  \n",
        "#   for imp in impressions:\n",
        "#     if (imp[-1]==\"1\"):\n",
        "#       imp = imp[:-2]\n",
        "#       hist = hist + \" \" + imp\n",
        "#   user_history.loc[len(user_history.index)] = [user_id, hist] \n",
        "      \n",
        "\n",
        "\n",
        "\n",
        "        "
      ]
    },
    {
      "cell_type": "code",
      "execution_count": 20,
      "metadata": {
        "id": "-91zQenb208W"
      },
      "outputs": [],
      "source": [
        "news_data.isna().sum()\n",
        "news_data.isna().sum()\n",
        "news_data.dropna(inplace=True)"
      ]
    },
    {
      "cell_type": "code",
      "execution_count": 20,
      "metadata": {
        "id": "0H6YOi7_208X"
      },
      "outputs": [],
      "source": []
    },
    {
      "cell_type": "code",
      "execution_count": 21,
      "metadata": {
        "id": "xK9StBgb208X",
        "colab": {
          "base_uri": "https://localhost:8080/"
        },
        "outputId": "be7499ac-499c-4228-8beb-25aa96c38583"
      },
      "outputs": [
        {
          "output_type": "stream",
          "name": "stdout",
          "text": [
            "The number of articles after processing : 47305\n"
          ]
        }
      ],
      "source": [
        "print('The number of articles after processing :',len(news_data))"
      ]
    },
    {
      "cell_type": "code",
      "execution_count": 22,
      "metadata": {
        "id": "agblDxAm208Y"
      },
      "outputs": [],
      "source": [
        "def remove_stopwords(sentence):\n",
        "    stop_words = set(stopwords.words('english'))\n",
        "    processedSentence = []\n",
        "    word_tokens = word_tokenize(sentence)\n",
        "    for i in word_tokens:\n",
        "        if i not in stop_words:\n",
        "            processedSentence.append(i)\n",
        "    return processedSentence"
      ]
    },
    {
      "cell_type": "code",
      "execution_count": 23,
      "metadata": {
        "id": "9Y9udycA208Y"
      },
      "outputs": [],
      "source": [
        "lemmatizer = WordNetLemmatizer() \n",
        "alphaPattern = \"[^a-zA-Z0-9<>]\"\n",
        "numerical = comment = \"[0-9]+\"\n",
        "\n",
        "# Making a function to lemmatize all the words\n",
        "lemmatizer = WordNetLemmatizer() \n",
        "\n",
        "def lemmatize_column(data, col_name):\n",
        "        processedSentence = []\n",
        "        sentences = data[col_name]\n",
        "        for sentence in sentences:\n",
        "            sentence = sentence.lower()\n",
        "            sentence = re.sub(alphaPattern, \" \", sentence)\n",
        "            sentence = re.sub(numerical, \" \", sentence)\n",
        "\n",
        "            words = remove_stopwords(sentence)\n",
        "            holder = []\n",
        "            for word in words:\n",
        "                word =lemmatizer.lemmatize(word)\n",
        "                if(len(word)>2):\n",
        "                  holder.append(word)\n",
        "            processedSentence.append(' '.join(holder))\n",
        "        data[col_name]=processedSentence\n",
        "        return data"
      ]
    },
    {
      "cell_type": "code",
      "execution_count": 24,
      "metadata": {
        "id": "js3p8mk5208Z",
        "colab": {
          "base_uri": "https://localhost:8080/",
          "height": 1000
        },
        "outputId": "caf528a0-ad74-40dd-c2c3-0371f9f640ca"
      },
      "outputs": [
        {
          "output_type": "execute_result",
          "data": {
            "text/html": [
              "\n",
              "  <div id=\"df-1cc2cfc6-9173-4891-961b-e878f66746ce\">\n",
              "    <div class=\"colab-df-container\">\n",
              "      <div>\n",
              "<style scoped>\n",
              "    .dataframe tbody tr th:only-of-type {\n",
              "        vertical-align: middle;\n",
              "    }\n",
              "\n",
              "    .dataframe tbody tr th {\n",
              "        vertical-align: top;\n",
              "    }\n",
              "\n",
              "    .dataframe thead th {\n",
              "        text-align: right;\n",
              "    }\n",
              "</style>\n",
              "<table border=\"1\" class=\"dataframe\">\n",
              "  <thead>\n",
              "    <tr style=\"text-align: right;\">\n",
              "      <th></th>\n",
              "      <th>News ID</th>\n",
              "      <th>Category</th>\n",
              "      <th>SubCategory</th>\n",
              "      <th>Title</th>\n",
              "      <th>Abstract</th>\n",
              "      <th>URL</th>\n",
              "      <th>Title Entities</th>\n",
              "      <th>Abstract Entities</th>\n",
              "    </tr>\n",
              "  </thead>\n",
              "  <tbody>\n",
              "    <tr>\n",
              "      <th>0</th>\n",
              "      <td>N55528</td>\n",
              "      <td>lifestyle</td>\n",
              "      <td>lifestyleroyals</td>\n",
              "      <td>The Brands Queen Elizabeth, Prince Charles, an...</td>\n",
              "      <td>shop notebook jacket royal live without</td>\n",
              "      <td>https://assets.msn.com/labs/mind/AAGH0ET.html</td>\n",
              "      <td>[{\"Label\": \"Prince Philip, Duke of Edinburgh\",...</td>\n",
              "      <td>[]</td>\n",
              "    </tr>\n",
              "    <tr>\n",
              "      <th>1</th>\n",
              "      <td>N19639</td>\n",
              "      <td>health</td>\n",
              "      <td>weightloss</td>\n",
              "      <td>50 Worst Habits For Belly Fat</td>\n",
              "      <td>seemingly harmless habit holding back keeping ...</td>\n",
              "      <td>https://assets.msn.com/labs/mind/AAB19MK.html</td>\n",
              "      <td>[{\"Label\": \"Adipose tissue\", \"Type\": \"C\", \"Wik...</td>\n",
              "      <td>[{\"Label\": \"Adipose tissue\", \"Type\": \"C\", \"Wik...</td>\n",
              "    </tr>\n",
              "    <tr>\n",
              "      <th>2</th>\n",
              "      <td>N61837</td>\n",
              "      <td>news</td>\n",
              "      <td>newsworld</td>\n",
              "      <td>The Cost of Trump's Aid Freeze in the Trenches...</td>\n",
              "      <td>ivan molchanets peeked parapet sand bag front ...</td>\n",
              "      <td>https://assets.msn.com/labs/mind/AAJgNsz.html</td>\n",
              "      <td>[]</td>\n",
              "      <td>[{\"Label\": \"Ukraine\", \"Type\": \"G\", \"WikidataId...</td>\n",
              "    </tr>\n",
              "    <tr>\n",
              "      <th>3</th>\n",
              "      <td>N53526</td>\n",
              "      <td>health</td>\n",
              "      <td>voices</td>\n",
              "      <td>I Was An NBA Wife. Here's How It Affected My M...</td>\n",
              "      <td>felt like fraud nba wife help fact nearly dest...</td>\n",
              "      <td>https://assets.msn.com/labs/mind/AACk2N6.html</td>\n",
              "      <td>[]</td>\n",
              "      <td>[{\"Label\": \"National Basketball Association\", ...</td>\n",
              "    </tr>\n",
              "    <tr>\n",
              "      <th>4</th>\n",
              "      <td>N38324</td>\n",
              "      <td>health</td>\n",
              "      <td>medical</td>\n",
              "      <td>How to Get Rid of Skin Tags, According to a De...</td>\n",
              "      <td>seem harmless good reason ignore post get rid ...</td>\n",
              "      <td>https://assets.msn.com/labs/mind/AAAKEkt.html</td>\n",
              "      <td>[{\"Label\": \"Skin tag\", \"Type\": \"C\", \"WikidataI...</td>\n",
              "      <td>[{\"Label\": \"Skin tag\", \"Type\": \"C\", \"WikidataI...</td>\n",
              "    </tr>\n",
              "    <tr>\n",
              "      <th>...</th>\n",
              "      <td>...</td>\n",
              "      <td>...</td>\n",
              "      <td>...</td>\n",
              "      <td>...</td>\n",
              "      <td>...</td>\n",
              "      <td>...</td>\n",
              "      <td>...</td>\n",
              "      <td>...</td>\n",
              "    </tr>\n",
              "    <tr>\n",
              "      <th>51274</th>\n",
              "      <td>N43432</td>\n",
              "      <td>news</td>\n",
              "      <td>newsus</td>\n",
              "      <td>US Forest Service shuts down vandalized Georgi...</td>\n",
              "      <td>gainesville forest service say vandalism forci...</td>\n",
              "      <td>https://assets.msn.com/labs/mind/BBWzDfU.html</td>\n",
              "      <td>[{\"Label\": \"Georgia (U.S. state)\", \"Type\": \"G\"...</td>\n",
              "      <td>[{\"Label\": \"Georgia (U.S. state)\", \"Type\": \"G\"...</td>\n",
              "    </tr>\n",
              "    <tr>\n",
              "      <th>51275</th>\n",
              "      <td>N17258</td>\n",
              "      <td>news</td>\n",
              "      <td>newsscienceandtechnology</td>\n",
              "      <td>Realme takes chunk of India mobile market as S...</td>\n",
              "      <td>percent phone shipped year year</td>\n",
              "      <td>https://assets.msn.com/labs/mind/BBWzDfx.html</td>\n",
              "      <td>[{\"Label\": \"Realme\", \"Type\": \"N\", \"WikidataId\"...</td>\n",
              "      <td>[]</td>\n",
              "    </tr>\n",
              "    <tr>\n",
              "      <th>51276</th>\n",
              "      <td>N23858</td>\n",
              "      <td>sports</td>\n",
              "      <td>golf</td>\n",
              "      <td>Young Northeast Florida fans flock to U.S. wom...</td>\n",
              "      <td>woman national soccer team arrived jacksonvill...</td>\n",
              "      <td>https://assets.msn.com/labs/mind/BBWzQB8.html</td>\n",
              "      <td>[{\"Label\": \"First Coast\", \"Type\": \"G\", \"Wikida...</td>\n",
              "      <td>[{\"Label\": \"United States women's national soc...</td>\n",
              "    </tr>\n",
              "    <tr>\n",
              "      <th>51279</th>\n",
              "      <td>N7482</td>\n",
              "      <td>sports</td>\n",
              "      <td>more_sports</td>\n",
              "      <td>St. Dominic soccer player tries to kick cancer...</td>\n",
              "      <td>sometimes happens sideline even important happ...</td>\n",
              "      <td>https://assets.msn.com/labs/mind/BBWzQnK.html</td>\n",
              "      <td>[]</td>\n",
              "      <td>[]</td>\n",
              "    </tr>\n",
              "    <tr>\n",
              "      <th>51280</th>\n",
              "      <td>N34418</td>\n",
              "      <td>sports</td>\n",
              "      <td>soccer_epl</td>\n",
              "      <td>How the Sounders won MLS Cup</td>\n",
              "      <td>mark jeremiah casey excited postgame podcast</td>\n",
              "      <td>https://assets.msn.com/labs/mind/BBWzQuK.html</td>\n",
              "      <td>[{\"Label\": \"MLS Cup\", \"Type\": \"U\", \"WikidataId...</td>\n",
              "      <td>[]</td>\n",
              "    </tr>\n",
              "  </tbody>\n",
              "</table>\n",
              "<p>47305 rows × 8 columns</p>\n",
              "</div>\n",
              "      <button class=\"colab-df-convert\" onclick=\"convertToInteractive('df-1cc2cfc6-9173-4891-961b-e878f66746ce')\"\n",
              "              title=\"Convert this dataframe to an interactive table.\"\n",
              "              style=\"display:none;\">\n",
              "        \n",
              "  <svg xmlns=\"http://www.w3.org/2000/svg\" height=\"24px\"viewBox=\"0 0 24 24\"\n",
              "       width=\"24px\">\n",
              "    <path d=\"M0 0h24v24H0V0z\" fill=\"none\"/>\n",
              "    <path d=\"M18.56 5.44l.94 2.06.94-2.06 2.06-.94-2.06-.94-.94-2.06-.94 2.06-2.06.94zm-11 1L8.5 8.5l.94-2.06 2.06-.94-2.06-.94L8.5 2.5l-.94 2.06-2.06.94zm10 10l.94 2.06.94-2.06 2.06-.94-2.06-.94-.94-2.06-.94 2.06-2.06.94z\"/><path d=\"M17.41 7.96l-1.37-1.37c-.4-.4-.92-.59-1.43-.59-.52 0-1.04.2-1.43.59L10.3 9.45l-7.72 7.72c-.78.78-.78 2.05 0 2.83L4 21.41c.39.39.9.59 1.41.59.51 0 1.02-.2 1.41-.59l7.78-7.78 2.81-2.81c.8-.78.8-2.07 0-2.86zM5.41 20L4 18.59l7.72-7.72 1.47 1.35L5.41 20z\"/>\n",
              "  </svg>\n",
              "      </button>\n",
              "      \n",
              "  <style>\n",
              "    .colab-df-container {\n",
              "      display:flex;\n",
              "      flex-wrap:wrap;\n",
              "      gap: 12px;\n",
              "    }\n",
              "\n",
              "    .colab-df-convert {\n",
              "      background-color: #E8F0FE;\n",
              "      border: none;\n",
              "      border-radius: 50%;\n",
              "      cursor: pointer;\n",
              "      display: none;\n",
              "      fill: #1967D2;\n",
              "      height: 32px;\n",
              "      padding: 0 0 0 0;\n",
              "      width: 32px;\n",
              "    }\n",
              "\n",
              "    .colab-df-convert:hover {\n",
              "      background-color: #E2EBFA;\n",
              "      box-shadow: 0px 1px 2px rgba(60, 64, 67, 0.3), 0px 1px 3px 1px rgba(60, 64, 67, 0.15);\n",
              "      fill: #174EA6;\n",
              "    }\n",
              "\n",
              "    [theme=dark] .colab-df-convert {\n",
              "      background-color: #3B4455;\n",
              "      fill: #D2E3FC;\n",
              "    }\n",
              "\n",
              "    [theme=dark] .colab-df-convert:hover {\n",
              "      background-color: #434B5C;\n",
              "      box-shadow: 0px 1px 3px 1px rgba(0, 0, 0, 0.15);\n",
              "      filter: drop-shadow(0px 1px 2px rgba(0, 0, 0, 0.3));\n",
              "      fill: #FFFFFF;\n",
              "    }\n",
              "  </style>\n",
              "\n",
              "      <script>\n",
              "        const buttonEl =\n",
              "          document.querySelector('#df-1cc2cfc6-9173-4891-961b-e878f66746ce button.colab-df-convert');\n",
              "        buttonEl.style.display =\n",
              "          google.colab.kernel.accessAllowed ? 'block' : 'none';\n",
              "\n",
              "        async function convertToInteractive(key) {\n",
              "          const element = document.querySelector('#df-1cc2cfc6-9173-4891-961b-e878f66746ce');\n",
              "          const dataTable =\n",
              "            await google.colab.kernel.invokeFunction('convertToInteractive',\n",
              "                                                     [key], {});\n",
              "          if (!dataTable) return;\n",
              "\n",
              "          const docLinkHtml = 'Like what you see? Visit the ' +\n",
              "            '<a target=\"_blank\" href=https://colab.research.google.com/notebooks/data_table.ipynb>data table notebook</a>'\n",
              "            + ' to learn more about interactive tables.';\n",
              "          element.innerHTML = '';\n",
              "          dataTable['output_type'] = 'display_data';\n",
              "          await google.colab.output.renderOutput(dataTable, element);\n",
              "          const docLink = document.createElement('div');\n",
              "          docLink.innerHTML = docLinkHtml;\n",
              "          element.appendChild(docLink);\n",
              "        }\n",
              "      </script>\n",
              "    </div>\n",
              "  </div>\n",
              "  "
            ],
            "text/plain": [
              "      News ID  ...                                  Abstract Entities\n",
              "0      N55528  ...                                                 []\n",
              "1      N19639  ...  [{\"Label\": \"Adipose tissue\", \"Type\": \"C\", \"Wik...\n",
              "2      N61837  ...  [{\"Label\": \"Ukraine\", \"Type\": \"G\", \"WikidataId...\n",
              "3      N53526  ...  [{\"Label\": \"National Basketball Association\", ...\n",
              "4      N38324  ...  [{\"Label\": \"Skin tag\", \"Type\": \"C\", \"WikidataI...\n",
              "...       ...  ...                                                ...\n",
              "51274  N43432  ...  [{\"Label\": \"Georgia (U.S. state)\", \"Type\": \"G\"...\n",
              "51275  N17258  ...                                                 []\n",
              "51276  N23858  ...  [{\"Label\": \"United States women's national soc...\n",
              "51279   N7482  ...                                                 []\n",
              "51280  N34418  ...                                                 []\n",
              "\n",
              "[47305 rows x 8 columns]"
            ]
          },
          "metadata": {},
          "execution_count": 24
        }
      ],
      "source": [
        "lemmatize_column(news_data, \"Abstract\")"
      ]
    },
    {
      "cell_type": "code",
      "source": [
        "news_data = news_data.reset_index()\n"
      ],
      "metadata": {
        "id": "TAsSRF6aYxQC"
      },
      "execution_count": 43,
      "outputs": []
    },
    {
      "cell_type": "code",
      "source": [
        "news_data[\"Abstract\"]"
      ],
      "metadata": {
        "colab": {
          "base_uri": "https://localhost:8080/"
        },
        "id": "ctS7sArd95OX",
        "outputId": "9bbdf9c9-4d79-4f03-8ef6-2603473934c3"
      },
      "execution_count": 44,
      "outputs": [
        {
          "output_type": "execute_result",
          "data": {
            "text/plain": [
              "0                  shop notebook jacket royal live without\n",
              "1        seemingly harmless habit holding back keeping ...\n",
              "2        ivan molchanets peeked parapet sand bag front ...\n",
              "3        felt like fraud nba wife help fact nearly dest...\n",
              "4        seem harmless good reason ignore post get rid ...\n",
              "                               ...                        \n",
              "47300    gainesville forest service say vandalism forci...\n",
              "47301                      percent phone shipped year year\n",
              "47302    woman national soccer team arrived jacksonvill...\n",
              "47303    sometimes happens sideline even important happ...\n",
              "47304         mark jeremiah casey excited postgame podcast\n",
              "Name: Abstract, Length: 47305, dtype: object"
            ]
          },
          "metadata": {},
          "execution_count": 44
        }
      ]
    },
    {
      "cell_type": "code",
      "execution_count": 48,
      "metadata": {
        "id": "C4P_HsOi208Z",
        "colab": {
          "base_uri": "https://localhost:8080/",
          "height": 122
        },
        "outputId": "26975c74-7bcf-4ce6-df11-094f50a63f3c"
      },
      "outputs": [
        {
          "output_type": "execute_result",
          "data": {
            "application/vnd.google.colaboratory.intrinsic+json": {
              "type": "string"
            },
            "text/plain": [
              "'year old bison named beefcake version snow angel henry vila zoo madison wisconsin november video shared zoo taken zookeeper taylor wood beefcake roll large body around snow kick leg air stand shake snow mane zoo post accompanying facebook video said polar bear one enjoying snow beefcake one happy boy today madison part southern wisconsin hit six inch snow november local medium reported road interstate system southern wisconsin snow covered department transportation also reported number accident spinouts milwaukee area interstate credit henry vila zoo via storyful'"
            ]
          },
          "metadata": {},
          "execution_count": 48
        }
      ],
      "source": [
        "news_data[\"Abstract\"][37203]\n"
      ]
    },
    {
      "cell_type": "code",
      "execution_count": 27,
      "metadata": {
        "id": "5lW7KyLW208Z",
        "colab": {
          "base_uri": "https://localhost:8080/"
        },
        "outputId": "952911d8-303b-4261-cd7a-592f87c628c5"
      },
      "outputs": [
        {
          "output_type": "stream",
          "name": "stdout",
          "text": [
            "['shop', 'notebook', 'jacket', 'royal', 'live', 'without']\n"
          ]
        }
      ],
      "source": [
        "corpus = []\n",
        "for words in news_data[\"Abstract\"]:\n",
        "    corpus.append(words.split())\n",
        "print(corpus[0])"
      ]
    },
    {
      "cell_type": "code",
      "execution_count": 28,
      "metadata": {
        "id": "Sl_Ulo0jy0Ku"
      },
      "outputs": [],
      "source": [
        "main_path = \"/content/googlenewsvectorsnegative300.zip\" # Specify the path\n",
        "\n",
        "# Check whether the specified path exists or not\n",
        "if os.path.exists(main_path)== False:\n",
        "  ! kaggle datasets download leadbest/googlenewsvectorsnegative300\n",
        "  ! unzip /content/googlenewsvectorsnegative300.zip\n",
        "\n",
        "\n"
      ]
    },
    {
      "cell_type": "code",
      "execution_count": 29,
      "metadata": {
        "id": "80YQNAdG208a",
        "colab": {
          "base_uri": "https://localhost:8080/"
        },
        "outputId": "e1886b4a-2031-42c9-99ac-89491369e374"
      },
      "outputs": [
        {
          "output_type": "stream",
          "name": "stdout",
          "text": [
            "KeyedVectors<vector_size=300, 3000000 keys>\n"
          ]
        }
      ],
      "source": [
        "# Load Word2Vec model (trained on an enormous Google corpus)\n",
        "google_word2vec = KeyedVectors.load_word2vec_format('/content/GoogleNews-vectors-negative300.bin', binary = True) \n",
        "# Check dimension of word vectors\n",
        "print(google_word2vec)"
      ]
    },
    {
      "cell_type": "code",
      "execution_count": 30,
      "metadata": {
        "id": "rDv--muK208a",
        "colab": {
          "base_uri": "https://localhost:8080/"
        },
        "outputId": "4febdb03-4835-452f-c40c-52311015b10a"
      },
      "outputs": [
        {
          "output_type": "execute_result",
          "data": {
            "text/plain": [
              "300"
            ]
          },
          "metadata": {},
          "execution_count": 30
        }
      ],
      "source": [
        "google_word2vec.vector_size"
      ]
    },
    {
      "cell_type": "markdown",
      "metadata": {
        "id": "XbupxwtY208a"
      },
      "source": []
    },
    {
      "cell_type": "code",
      "execution_count": 30,
      "metadata": {
        "id": "wssx0l1W_XgV"
      },
      "outputs": [],
      "source": []
    },
    {
      "cell_type": "code",
      "execution_count": 31,
      "metadata": {
        "id": "pqtnaQaMO-hE",
        "colab": {
          "base_uri": "https://localhost:8080/"
        },
        "outputId": "f52a9d1b-99b8-4400-cba8-2d8b73012ff6"
      },
      "outputs": [
        {
          "output_type": "stream",
          "name": "stdout",
          "text": [
            "Requirement already satisfied: gensim in /usr/local/lib/python3.7/dist-packages (4.2.0)\n",
            "Requirement already satisfied: scipy>=0.18.1 in /usr/local/lib/python3.7/dist-packages (from gensim) (1.4.1)\n",
            "Requirement already satisfied: smart-open>=1.8.1 in /usr/local/lib/python3.7/dist-packages (from gensim) (5.2.1)\n",
            "Requirement already satisfied: numpy>=1.17.0 in /usr/local/lib/python3.7/dist-packages (from gensim) (1.21.5)\n"
          ]
        }
      ],
      "source": [
        "pip install --upgrade gensim\n"
      ]
    },
    {
      "cell_type": "code",
      "source": [],
      "metadata": {
        "id": "HroDxwFu2HeZ"
      },
      "execution_count": 31,
      "outputs": []
    },
    {
      "cell_type": "code",
      "execution_count": 32,
      "metadata": {
        "id": "kcmCia1V208b",
        "colab": {
          "base_uri": "https://localhost:8080/"
        },
        "outputId": "fd027acf-21b1-43cc-8d4d-1587dd23ef7b"
      },
      "outputs": [
        {
          "output_type": "stream",
          "name": "stdout",
          "text": [
            "47305\n"
          ]
        },
        {
          "output_type": "execute_result",
          "data": {
            "text/plain": [
              "(4981698, 5064675)"
            ]
          },
          "metadata": {},
          "execution_count": 32
        }
      ],
      "source": [
        "\n",
        "# Training our corpus with Google Pretrained Model\n",
        "#create word to vector model \n",
        "model = Word2Vec(vector_size = 300, min_count = 1)\n",
        "model.build_vocab(corpus)\n",
        "model.wv.vectors_lockf = np.ones(len(model.wv))\n",
        "\n",
        "model.wv.intersect_word2vec_format('/content/GoogleNews-vectors-negative300.bin', binary=True, lockf=1.0)\n",
        "print(model.corpus_count)\n",
        "model.train(corpus, total_examples=model.corpus_count, epochs = 5)"
      ]
    },
    {
      "cell_type": "code",
      "execution_count": 33,
      "metadata": {
        "id": "lVLmP4Yf208b"
      },
      "outputs": [],
      "source": [
        "#Building TFIDF model and calculate TFIDF score\n",
        "\n",
        "tfidf = TfidfVectorizer(analyzer='word', ngram_range=(1, 3), min_df = 5)\n",
        "tfidf.fit(news_data['Abstract'])\n",
        "\n",
        "# Getting the words from the TF-IDF model\n",
        "\n",
        "tfidf_list = dict(zip(tfidf.get_feature_names(), list(tfidf.idf_)))\n",
        "tfidf_feature = tfidf.get_feature_names() # tfidf words/col-names"
      ]
    },
    {
      "cell_type": "code",
      "source": [
        "news_data = news_data.reset_index()\n"
      ],
      "metadata": {
        "id": "XJFqns0Io2dQ"
      },
      "execution_count": 34,
      "outputs": []
    },
    {
      "cell_type": "code",
      "source": [
        "vocabulary = model.wv.key_to_index\n",
        "w2v_headline = []\n",
        "for i in news_data[\"Abstract\"]:\n",
        "    w2Vec_word = np.zeros(300, dtype=\"float32\")\n",
        "    for word in i.split():\n",
        "        if word in vocabulary:\n",
        "          w2Vec_word = np.add(w2Vec_word, model.wv[word])\n",
        "    w2Vec_word = np.divide(w2Vec_word, len(i.split()))\n",
        "    w2v_headline.append(w2Vec_word)\n",
        "\n",
        "w2v_headline = np.array(w2v_headline)\n",
        "\n",
        "# print(w2v_headline[11].reshape(1,-1))\n",
        "print(w2v_headline)\n",
        "print(np.isfinite(w2v_headline).all())\n",
        "print(np.all(np.isfinite(w2v_headline)))\n",
        "\n",
        "w2v_headline =np.nan_to_num(w2v_headline)\n",
        "\n"
      ],
      "metadata": {
        "colab": {
          "base_uri": "https://localhost:8080/"
        },
        "id": "LPiLrBaSkqo3",
        "outputId": "50dbbfc5-7590-4bf3-d327-6d74180bab2b"
      },
      "execution_count": 35,
      "outputs": [
        {
          "output_type": "stream",
          "name": "stdout",
          "text": [
            "[[ 0.09006446  0.0497372  -0.18740945 ...  0.04982223  0.14883347\n",
            "  -0.08128146]\n",
            " [ 0.07908094  0.22546615 -0.05977982 ...  0.0257273   0.01558878\n",
            "  -0.02480219]\n",
            " [ 0.06518795  0.14794789  0.07906339 ... -0.11218343  0.02746166\n",
            "   0.07702471]\n",
            " ...\n",
            " [ 0.01229006  0.1440721   0.11162078 ... -0.12229433 -0.03502036\n",
            "  -0.12493409]\n",
            " [ 0.01642523  0.10055196  0.19363576 ... -0.121034   -0.0276818\n",
            "  -0.07087583]\n",
            " [-0.06199593  0.10866774 -0.05136494 ... -0.18859093 -0.13234614\n",
            "  -0.11191014]]\n",
            "False\n",
            "False\n"
          ]
        }
      ]
    },
    {
      "cell_type": "code",
      "source": [
        "def avg_w2v_based_model(row_index, num_similar_items):\n",
        "    couple_dist = pairwise_distances(w2v_headline, w2v_headline[row_index].reshape(1,-1))\n",
        "    indices = np.argsort(couple_dist.ravel())[0:num_similar_items]\n",
        "    print(indices[0])\n",
        "    df = pd.DataFrame({\"ID \": news_data['News ID'][indices].values, 'Category': news_data['Category'][indices].values,\n",
        "               'headline':news_data['Abstract'][indices].values,\n",
        "                'Euclidean similarity with the queried article': couple_dist[indices].ravel()})\n",
        "    print(\"=\"*30,\"Queried article details\",\"=\"*30)\n",
        "\n",
        "    print('headline : ',news_data['Abstract'][indices[0]], \"category : \", news_data['Category'][indices[0]])\n",
        "    print(\"\\n\",\"=\"*25,\"Recommended articles : \",\"=\"*23)\n",
        "    #return df.iloc[1:,1]\n",
        "    return df.iloc[1:,]\n",
        "\n",
        "avg_w2v_based_model(47300, 11)"
      ],
      "metadata": {
        "colab": {
          "base_uri": "https://localhost:8080/",
          "height": 635
        },
        "id": "JJnfp4Jx56bM",
        "outputId": "1bd7cc4b-4844-4ca4-ab90-ef4a729a164d"
      },
      "execution_count": 47,
      "outputs": [
        {
          "output_type": "stream",
          "name": "stdout",
          "text": [
            "47300\n",
            "============================== Queried article details ==============================\n",
            "headline :  gainesville forest service say vandalism forcing shut popular fall leaf viewing destination georgia agency posted photo facebook friday showing wooden platform covered white spray paint overlooking mountainous north georgia landscape chattahoochee oconee national forest category :  news\n",
            "\n",
            " ========================= Recommended articles :  =======================\n"
          ]
        },
        {
          "output_type": "execute_result",
          "data": {
            "text/html": [
              "\n",
              "  <div id=\"df-b593f647-38a5-4e3e-ada7-7b1e55e23d8e\">\n",
              "    <div class=\"colab-df-container\">\n",
              "      <div>\n",
              "<style scoped>\n",
              "    .dataframe tbody tr th:only-of-type {\n",
              "        vertical-align: middle;\n",
              "    }\n",
              "\n",
              "    .dataframe tbody tr th {\n",
              "        vertical-align: top;\n",
              "    }\n",
              "\n",
              "    .dataframe thead th {\n",
              "        text-align: right;\n",
              "    }\n",
              "</style>\n",
              "<table border=\"1\" class=\"dataframe\">\n",
              "  <thead>\n",
              "    <tr style=\"text-align: right;\">\n",
              "      <th></th>\n",
              "      <th>ID</th>\n",
              "      <th>Category</th>\n",
              "      <th>headline</th>\n",
              "      <th>Euclidean similarity with the queried article</th>\n",
              "    </tr>\n",
              "  </thead>\n",
              "  <tbody>\n",
              "    <tr>\n",
              "      <th>1</th>\n",
              "      <td>N3299</td>\n",
              "      <td>weather</td>\n",
              "      <td>snowstorm moving colorado tuesday october left...</td>\n",
              "      <td>1.523503</td>\n",
              "    </tr>\n",
              "    <tr>\n",
              "      <th>2</th>\n",
              "      <td>N43859</td>\n",
              "      <td>weather</td>\n",
              "      <td>new hampshire resident awoke friday november f...</td>\n",
              "      <td>1.623018</td>\n",
              "    </tr>\n",
              "    <tr>\n",
              "      <th>3</th>\n",
              "      <td>N33590</td>\n",
              "      <td>video</td>\n",
              "      <td>year old bison named beefcake version snow ang...</td>\n",
              "      <td>1.641635</td>\n",
              "    </tr>\n",
              "    <tr>\n",
              "      <th>4</th>\n",
              "      <td>N24813</td>\n",
              "      <td>weather</td>\n",
              "      <td>southeast new brunswick canada blanketed snow ...</td>\n",
              "      <td>1.678059</td>\n",
              "    </tr>\n",
              "    <tr>\n",
              "      <th>5</th>\n",
              "      <td>N35962</td>\n",
              "      <td>weather</td>\n",
              "      <td>eight inch snow fell across madison wisconsin ...</td>\n",
              "      <td>1.685688</td>\n",
              "    </tr>\n",
              "    <tr>\n",
              "      <th>6</th>\n",
              "      <td>N17800</td>\n",
              "      <td>weather</td>\n",
              "      <td>resident experienced first substantial snow se...</td>\n",
              "      <td>1.686617</td>\n",
              "    </tr>\n",
              "    <tr>\n",
              "      <th>7</th>\n",
              "      <td>N60334</td>\n",
              "      <td>weather</td>\n",
              "      <td>potent snowstorm moving colorado tuesday octob...</td>\n",
              "      <td>1.727900</td>\n",
              "    </tr>\n",
              "    <tr>\n",
              "      <th>8</th>\n",
              "      <td>N11046</td>\n",
              "      <td>weather</td>\n",
              "      <td>aftermath tornado swept garland texas northeas...</td>\n",
              "      <td>1.728107</td>\n",
              "    </tr>\n",
              "    <tr>\n",
              "      <th>9</th>\n",
              "      <td>N7747</td>\n",
              "      <td>weather</td>\n",
              "      <td>blustery snow moved santa new mexico october f...</td>\n",
              "      <td>1.730612</td>\n",
              "    </tr>\n",
              "    <tr>\n",
              "      <th>10</th>\n",
              "      <td>N60296</td>\n",
              "      <td>weather</td>\n",
              "      <td>resident western pennsylvania got first signif...</td>\n",
              "      <td>1.735630</td>\n",
              "    </tr>\n",
              "  </tbody>\n",
              "</table>\n",
              "</div>\n",
              "      <button class=\"colab-df-convert\" onclick=\"convertToInteractive('df-b593f647-38a5-4e3e-ada7-7b1e55e23d8e')\"\n",
              "              title=\"Convert this dataframe to an interactive table.\"\n",
              "              style=\"display:none;\">\n",
              "        \n",
              "  <svg xmlns=\"http://www.w3.org/2000/svg\" height=\"24px\"viewBox=\"0 0 24 24\"\n",
              "       width=\"24px\">\n",
              "    <path d=\"M0 0h24v24H0V0z\" fill=\"none\"/>\n",
              "    <path d=\"M18.56 5.44l.94 2.06.94-2.06 2.06-.94-2.06-.94-.94-2.06-.94 2.06-2.06.94zm-11 1L8.5 8.5l.94-2.06 2.06-.94-2.06-.94L8.5 2.5l-.94 2.06-2.06.94zm10 10l.94 2.06.94-2.06 2.06-.94-2.06-.94-.94-2.06-.94 2.06-2.06.94z\"/><path d=\"M17.41 7.96l-1.37-1.37c-.4-.4-.92-.59-1.43-.59-.52 0-1.04.2-1.43.59L10.3 9.45l-7.72 7.72c-.78.78-.78 2.05 0 2.83L4 21.41c.39.39.9.59 1.41.59.51 0 1.02-.2 1.41-.59l7.78-7.78 2.81-2.81c.8-.78.8-2.07 0-2.86zM5.41 20L4 18.59l7.72-7.72 1.47 1.35L5.41 20z\"/>\n",
              "  </svg>\n",
              "      </button>\n",
              "      \n",
              "  <style>\n",
              "    .colab-df-container {\n",
              "      display:flex;\n",
              "      flex-wrap:wrap;\n",
              "      gap: 12px;\n",
              "    }\n",
              "\n",
              "    .colab-df-convert {\n",
              "      background-color: #E8F0FE;\n",
              "      border: none;\n",
              "      border-radius: 50%;\n",
              "      cursor: pointer;\n",
              "      display: none;\n",
              "      fill: #1967D2;\n",
              "      height: 32px;\n",
              "      padding: 0 0 0 0;\n",
              "      width: 32px;\n",
              "    }\n",
              "\n",
              "    .colab-df-convert:hover {\n",
              "      background-color: #E2EBFA;\n",
              "      box-shadow: 0px 1px 2px rgba(60, 64, 67, 0.3), 0px 1px 3px 1px rgba(60, 64, 67, 0.15);\n",
              "      fill: #174EA6;\n",
              "    }\n",
              "\n",
              "    [theme=dark] .colab-df-convert {\n",
              "      background-color: #3B4455;\n",
              "      fill: #D2E3FC;\n",
              "    }\n",
              "\n",
              "    [theme=dark] .colab-df-convert:hover {\n",
              "      background-color: #434B5C;\n",
              "      box-shadow: 0px 1px 3px 1px rgba(0, 0, 0, 0.15);\n",
              "      filter: drop-shadow(0px 1px 2px rgba(0, 0, 0, 0.3));\n",
              "      fill: #FFFFFF;\n",
              "    }\n",
              "  </style>\n",
              "\n",
              "      <script>\n",
              "        const buttonEl =\n",
              "          document.querySelector('#df-b593f647-38a5-4e3e-ada7-7b1e55e23d8e button.colab-df-convert');\n",
              "        buttonEl.style.display =\n",
              "          google.colab.kernel.accessAllowed ? 'block' : 'none';\n",
              "\n",
              "        async function convertToInteractive(key) {\n",
              "          const element = document.querySelector('#df-b593f647-38a5-4e3e-ada7-7b1e55e23d8e');\n",
              "          const dataTable =\n",
              "            await google.colab.kernel.invokeFunction('convertToInteractive',\n",
              "                                                     [key], {});\n",
              "          if (!dataTable) return;\n",
              "\n",
              "          const docLinkHtml = 'Like what you see? Visit the ' +\n",
              "            '<a target=\"_blank\" href=https://colab.research.google.com/notebooks/data_table.ipynb>data table notebook</a>'\n",
              "            + ' to learn more about interactive tables.';\n",
              "          element.innerHTML = '';\n",
              "          dataTable['output_type'] = 'display_data';\n",
              "          await google.colab.output.renderOutput(dataTable, element);\n",
              "          const docLink = document.createElement('div');\n",
              "          docLink.innerHTML = docLinkHtml;\n",
              "          element.appendChild(docLink);\n",
              "        }\n",
              "      </script>\n",
              "    </div>\n",
              "  </div>\n",
              "  "
            ],
            "text/plain": [
              "       ID   ... Euclidean similarity with the queried article\n",
              "1    N3299  ...                                      1.523503\n",
              "2   N43859  ...                                      1.623018\n",
              "3   N33590  ...                                      1.641635\n",
              "4   N24813  ...                                      1.678059\n",
              "5   N35962  ...                                      1.685688\n",
              "6   N17800  ...                                      1.686617\n",
              "7   N60334  ...                                      1.727900\n",
              "8   N11046  ...                                      1.728107\n",
              "9    N7747  ...                                      1.730612\n",
              "10  N60296  ...                                      1.735630\n",
              "\n",
              "[10 rows x 4 columns]"
            ]
          },
          "metadata": {},
          "execution_count": 47
        }
      ]
    },
    {
      "cell_type": "code",
      "execution_count": 37,
      "metadata": {
        "id": "b3Q_U_Hp208c"
      },
      "outputs": [],
      "source": [
        "# Building TF-IDF Word2Vec\n",
        "\n",
        "# Storing the TFIDF Word2Vec embeddings\n",
        "tfidf_vectors = []; \n",
        "line = 0;\n",
        "# for each book description\n",
        "for desc in corpus:\n",
        "  # Word vectors are of zero length (Used 300 dimensions)\n",
        "    sent_vec = np.zeros(300)\n",
        "    # num of words with a valid vector in the book descriptionAbstract\n",
        "    weight_sum = 0; \n",
        "    # for each word in the book description\n",
        "    \n",
        "    for word in desc: \n",
        "        if word in model.wv.key_to_index and word in tfidf_feature:\n",
        "            vec = model.wv[word]\n",
        "            tf_idf = tfidf_list[word] * (desc.count(word) / len(desc))\n",
        "            sent_vec += (vec * tf_idf)\n",
        "            weight_sum += tf_idf\n",
        "    if weight_sum != 0:\n",
        "        sent_vec /= weight_sum\n",
        "    tfidf_vectors.append(sent_vec)\n",
        "    line += 1"
      ]
    },
    {
      "cell_type": "code",
      "execution_count": 37,
      "metadata": {
        "id": "sBTZniv87LLn"
      },
      "outputs": [],
      "source": []
    },
    {
      "cell_type": "code",
      "execution_count": 38,
      "metadata": {
        "id": "d_EYdRcH208c"
      },
      "outputs": [],
      "source": [
        "\n",
        "def recommendations(abstract):\n",
        "    # finding cosine similarity for the vectors\n",
        "    print(\"yes\")\n",
        "\n",
        "    cosine_similarities = cosine_similarity(tfidf_vectors, tfidf_vectors)\n",
        "\n",
        "    # taking the title and book image link and store in new data frame called books\n",
        "    books = news_data[['Abstract', 'Title', 'Category']]\n",
        "    # Reverse mapping of the index\n",
        "    indices = pd.Series(news_data.index, index=news_data['Abstract']).drop_duplicates()\n",
        "\n",
        "    idx = indices[abstract]\n",
        "    print(\" yes \")\n",
        "    sim_scores = list(enumerate(cosine_similarities[idx]))\n",
        "    sim_scores = sorted(sim_scores, key=lambda x: x[1], reverse=True)\n",
        "    sim_scores = sim_scores[1:11]\n",
        "    print(sim_scores)\n",
        "    book_indices = [i[0] for i in sim_scores]\n",
        "    print(book_indices)\n",
        "\n",
        "    df = pd.DataFrame({\"ID \": news_data['News ID'][book_indices].values, 'Category': news_data['Category'][book_indices].values, 'headline':news_data['Abstract'][book_indices].values })\n",
        "    print(\"=\"*30,\"Queried article details\",\"=\"*30)\n",
        "    print('headline : ',news_data['Abstract'][50], \"category : \", news_data['Category'][book_indices[0]])\n",
        "    print(\"\\n\",\"=\"*25,\"Recommended articles : \",\"=\"*23)\n",
        "    df.info()\n",
        "    print(df)\n",
        "\n",
        "        "
      ]
    },
    {
      "cell_type": "code",
      "execution_count": 46,
      "metadata": {
        "id": "RbLR47oK208c",
        "colab": {
          "base_uri": "https://localhost:8080/"
        },
        "outputId": "63da600b-e724-4ede-c15f-5def7fda3e0f"
      },
      "outputs": [
        {
          "output_type": "stream",
          "name": "stdout",
          "text": [
            "yes\n",
            " yes \n",
            "[(40197, 0.879060576563512), (42217, 0.8761379668913889), (34006, 0.8663210970049992), (37203, 0.8630751766912272), (6656, 0.8621257582533111), (9225, 0.8611346086141614), (31771, 0.8595566412069511), (40498, 0.8589806561101598), (6200, 0.8554894409028518), (6792, 0.8553808166663661)]\n",
            "[40197, 42217, 34006, 37203, 6656, 9225, 31771, 40498, 6200, 6792]\n",
            "============================== Queried article details ==============================\n",
            "headline :  welcome house please drop bag right category :  weather\n",
            "\n",
            " ========================= Recommended articles :  =======================\n",
            "<class 'pandas.core.frame.DataFrame'>\n",
            "RangeIndex: 10 entries, 0 to 9\n",
            "Data columns (total 3 columns):\n",
            " #   Column    Non-Null Count  Dtype   \n",
            "---  ------    --------------  -----   \n",
            " 0   ID        10 non-null     category\n",
            " 1   Category  10 non-null     category\n",
            " 2   headline  10 non-null     object  \n",
            "dtypes: category(2), object(1)\n",
            "memory usage: 2.4+ MB\n",
            "      ID  Category                                           headline\n",
            "0  N47000  weather  cold rain overnight early tuesday metro atlant...\n",
            "1  N51868   travel  best pinelands photography ethereal light brea...\n",
            "2   N4722  weather  several inch snow reported eastern tennessee g...\n",
            "3  N33590    video  year old bison named beefcake version snow ang...\n",
            "4  N12764  weather  tractor trailer overturned near lakeland flori...\n",
            "5  N29474  weather  birmingham ala latest tropical weather south t...\n",
            "6  N24813  weather  southeast new brunswick canada blanketed snow ...\n",
            "7  N63168     news  indianapolis southern indiana collins lake dam...\n",
            "8   N3299  weather  snowstorm moving colorado tuesday october left...\n",
            "9  N43562    video  resident beaumont texas struggling widespread ...\n"
          ]
        }
      ],
      "source": [
        "recommendations(\"gainesville forest service say vandalism forcing shut popular fall leaf viewing destination georgia agency posted photo facebook friday showing wooden platform covered white spray paint overlooking mountainous north georgia landscape chattahoochee oconee national forest\")"
      ]
    },
    {
      "cell_type": "code",
      "execution_count": 39,
      "metadata": {
        "id": "QtNWBjiqhC2V"
      },
      "outputs": [],
      "source": []
    }
  ],
  "metadata": {
    "accelerator": "TPU",
    "colab": {
      "collapsed_sections": [],
      "provenance": [],
      "include_colab_link": true
    },
    "kernelspec": {
      "display_name": "Python 3",
      "language": "python",
      "name": "python3"
    },
    "language_info": {
      "codemirror_mode": {
        "name": "ipython",
        "version": 3
      },
      "file_extension": ".py",
      "mimetype": "text/x-python",
      "name": "python",
      "nbconvert_exporter": "python",
      "pygments_lexer": "ipython3",
      "version": "3.7.12"
    }
  },
  "nbformat": 4,
  "nbformat_minor": 0
}